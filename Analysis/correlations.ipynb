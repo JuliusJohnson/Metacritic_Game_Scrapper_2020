{
 "metadata": {
  "language_info": {
   "codemirror_mode": {
    "name": "ipython",
    "version": 3
   },
   "file_extension": ".py",
   "mimetype": "text/x-python",
   "name": "python",
   "nbconvert_exporter": "python",
   "pygments_lexer": "ipython3",
   "version": "3.8.2-final"
  },
  "orig_nbformat": 2,
  "kernelspec": {
   "name": "python38264bitmetacriticpipenv62869e1a7a93415086696beecf2b8a42",
   "display_name": "Python 3.8.2 64-bit ('Metacritic': pipenv)"
  }
 },
 "nbformat": 4,
 "nbformat_minor": 2,
 "cells": [
  {
   "cell_type": "code",
   "execution_count": 1,
   "metadata": {},
   "outputs": [],
   "source": [
    "import pandas as pd\n",
    "from pprint import pprint\n",
    "#from datetime import datetime"
   ]
  },
  {
   "cell_type": "code",
   "execution_count": 2,
   "metadata": {},
   "outputs": [],
   "source": [
    "mc = pd.read_csv('metacritic_cleaned.csv')\n",
    "mc.drop([\"Unnamed: 0\"], axis=1, inplace=True) #delte extra generated columns\n",
    "#mc.head()"
   ]
  },
  {
   "cell_type": "code",
   "execution_count": 3,
   "metadata": {},
   "outputs": [],
   "source": [
    "def splitYears(df): #Splits data by year\n",
    "    df['year'] = pd.DatetimeIndex(df['date']).year\n",
    "    return ([df[df['year'] == y] for y in df['year'].unique()], 'year')\n",
    "def splitMonth(df): #splits data by month\n",
    "    df['month'] = pd.DatetimeIndex(df['date']).month\n",
    "    return ([df[df['month'] == m] for m in df['month'].unique()], 'month')\n",
    "def splitdev(df): #splits data by developer\n",
    "    return ([df[df['developer'] == dev] for dev in df['developer'].unique()], 'developer') \n",
    "def raw(df): #raw correlation\n",
    "    return (([df]), 'raw')\n"
   ]
  },
  {
   "cell_type": "code",
   "execution_count": 4,
   "metadata": {
    "tags": []
   },
   "outputs": [
    {
     "output_type": "stream",
     "name": "stdout",
     "text": "<class 'tuple'>\n<class 'list'>\n<class 'list'>\n"
    }
   ],
   "source": [
    "pprint(type(raw(mc)))\n",
    "pprint(type(splitYears(mc)[0]))\n",
    "pprint(type(raw(mc)[0]))"
   ]
  },
  {
   "cell_type": "code",
   "execution_count": 15,
   "metadata": {
    "tags": []
   },
   "outputs": [],
   "source": [
    "def corr_machine(function):\n",
    "    data = [] #make a dict ['score']['userscore']\n",
    "    for df in function[0]:\n",
    "        try:\n",
    "            data.append((df.corr(method=\"pearson\", min_periods=30)['score']['userscore'], df[function[1]].unique()))\n",
    "            data.append((df.corr(method=\"pearson\", min_periods=30)['no_userreviews']['userscore'], df[function[1]].unique()))\n",
    "        except KeyError:\n",
    "            data.append((df.corr(method=\"pearson\", min_periods=30)))\n",
    "    return data"
   ]
  },
  {
   "cell_type": "code",
   "execution_count": 18,
   "metadata": {
    "tags": []
   },
   "outputs": [
    {
     "output_type": "stream",
     "name": "stdout",
     "text": "[(0.5572138515405983, array([2015])),\n (0.114755011337704, array([2015])),\n (0.5217574425864934, array([2016])),\n (0.11044001305391955, array([2016])),\n (0.48230222562080377, array([2017])),\n (-0.006313880803674766, array([2017])),\n (0.5491101702729779, array([2018])),\n (-0.049671941366498246, array([2018])),\n (0.4650519437255351, array([2019])),\n (-0.028042073829729917, array([2019])),\n (0.39957754342206, array([2020])),\n (-0.05069993992986668, array([2020]))]\n"
    }
   ],
   "source": [
    "pprint(corr_machine(splitYears(mc)))"
   ]
  },
  {
   "cell_type": "code",
   "execution_count": 21,
   "metadata": {},
   "outputs": [
    {
     "output_type": "execute_result",
     "data": {
      "text/plain": "                                                   name        date  \\\n4871  Tom Clancy's The Division 2: Warlords of New York  2020-03-03   \n4800  Tom Clancy's The Division 2: Warlords of New York  2020-03-03   \n1858                                           NBA 2K18  2017-09-15   \n4061                                            FIFA 20  2019-09-24   \n4029                                           NBA 2K20  2019-09-06   \n4050                                            FIFA 20  2019-09-24   \n4775                                    EA SPORTS UFC 4  2020-08-14   \n4105                                           NBA 2K20  2019-09-06   \n5121                                      Madden NFL 21  2020-08-25   \n5031  Tom Clancy's The Division 2: Warlords of New York  2020-03-03   \n1895                                           NBA 2K18  2017-09-15   \n2814                                            FIFA 19  2018-09-25   \n4905                                    EA SPORTS UFC 4  2020-08-14   \n4165                                      Madden NFL 20  2019-07-30   \n5215                                      Madden NFL 21  2020-08-25   \n2085          Call of Duty: Infinite Warfare - Sabotage  2017-01-31   \n2927                                      Madden NFL 19  2018-08-10   \n4053                                      Madden NFL 20  2019-07-30   \n2822                                            FIFA 19  2018-09-25   \n833                         Out of the Park Baseball 17  2016-03-22   \n\n           platform  score                                                url  \\\n4871             PC     79  /game/pc/tom-clancys-the-division-2-warlords-o...   \n4800       Xbox One     82  /game/xbox-one/tom-clancys-the-division-2-warl...   \n1858       Xbox One     85                            /game/xbox-one/nba-2k18   \n4061  PlayStation 4     79                        /game/playstation-4/fifa-20   \n4029       Xbox One     80                            /game/xbox-one/nba-2k20   \n4050       Xbox One     79                             /game/xbox-one/fifa-20   \n4775       Xbox One     83                     /game/xbox-one/ea-sports-ufc-4   \n4105  PlayStation 4     78                       /game/playstation-4/nba-2k20   \n5121       Xbox One     69                       /game/xbox-one/madden-nfl-21   \n5031  PlayStation 4     74  /game/playstation-4/tom-clancys-the-division-2...   \n1895  PlayStation 4     80                       /game/playstation-4/nba-2k18   \n2814  PlayStation 4     83                        /game/playstation-4/fifa-19   \n4905  PlayStation 4     78                /game/playstation-4/ea-sports-ufc-4   \n4165  PlayStation 4     76                  /game/playstation-4/madden-nfl-20   \n5215  PlayStation 4     63                  /game/playstation-4/madden-nfl-21   \n2085  PlayStation 4     76  /game/playstation-4/call-of-duty-infinite-warf...   \n2927  PlayStation 4     80                  /game/playstation-4/madden-nfl-19   \n4053       Xbox One     79                       /game/xbox-one/madden-nfl-20   \n2822       Xbox One     83                             /game/xbox-one/fifa-19   \n833              PC     92               /game/pc/out-of-the-park-baseball-17   \n\n      userscore                                            fullurl  \\\n4871        5.0  https://www.metacritic.com/game/pc/tom-clancys...   \n4800       11.0  https://www.metacritic.com/game/xbox-one/tom-c...   \n1858       16.0  https://www.metacritic.com/game/xbox-one/nba-2k18   \n4061       12.0  https://www.metacritic.com/game/playstation-4/...   \n4029       14.0  https://www.metacritic.com/game/xbox-one/nba-2k20   \n4050       13.0   https://www.metacritic.com/game/xbox-one/fifa-20   \n4775       17.0  https://www.metacritic.com/game/xbox-one/ea-sp...   \n4105       13.0  https://www.metacritic.com/game/playstation-4/...   \n5121        4.0  https://www.metacritic.com/game/xbox-one/madde...   \n5031       11.0  https://www.metacritic.com/game/playstation-4/...   \n1895       17.0  https://www.metacritic.com/game/playstation-4/...   \n2814       20.0  https://www.metacritic.com/game/playstation-4/...   \n4905       15.0  https://www.metacritic.com/game/playstation-4/...   \n4165       14.0  https://www.metacritic.com/game/playstation-4/...   \n5215        2.0  https://www.metacritic.com/game/playstation-4/...   \n2085       16.0  https://www.metacritic.com/game/playstation-4/...   \n2927       20.0  https://www.metacritic.com/game/playstation-4/...   \n4053       19.0  https://www.metacritic.com/game/xbox-one/madde...   \n2822       23.0   https://www.metacritic.com/game/xbox-one/fifa-19   \n833        33.0  https://www.metacritic.com/game/pc/out-of-the-...   \n\n                         developer  \\\n4871         Massive Entertainment   \n4800         Massive Entertainment   \n1858                      2K Games   \n4061               Electronic Arts   \n4029               Visual Concepts   \n4050               Electronic Arts   \n4775               Electronic Arts   \n4105               Visual Concepts   \n5121                     EA Sports   \n5031         Massive Entertainment   \n1895               Visual Concepts   \n2814                     EA Sports   \n4905               Electronic Arts   \n4165               Electronic Arts   \n5215                     EA Sports   \n2085                 Infinity Ward   \n2927                    EA Tiburon   \n4053   Electronic Arts, EA Tiburon   \n2822                     EA Sports   \n833   Out Of The Park Developments   \n\n                                                  genre  no_userreviews  year  \\\n4871  ['Action', 'Shooter', 'Third-Person', 'Tactical']          1497.0  2020   \n4800  ['Action', 'Shooter', 'Third-Person', 'Tactical']           172.0  2020   \n1858            ['Sports', 'Team', 'Basketball', 'Sim']           178.0  2017   \n4061                ['Sports', 'Team', 'Soccer', 'Sim']          3332.0  2019   \n4029            ['Sports', 'Team', 'Basketball', 'Sim']           309.0  2019   \n4050                ['Sports', 'Team', 'Soccer', 'Sim']           327.0  2019   \n4775  ['Sports', 'Individual', 'Combat', 'Boxing / M...            76.0  2020   \n4105            ['Sports', 'Team', 'Basketball', 'Sim']          1122.0  2019   \n5121              ['Sports', 'Team', 'Football', 'Sim']           975.0  2020   \n5031  ['Action', 'Shooter', 'Third-Person', 'Tactical']           442.0  2020   \n1895  ['Arcade', 'Sports', 'Team', 'Basketball', 'Sim']           717.0  2017   \n2814                ['Sports', 'Team', 'Soccer', 'Sim']          1145.0  2018   \n4905  ['Sports', 'Individual', 'Combat', 'Boxing / M...           364.0  2020   \n4165  ['Action', 'Sports', 'General', 'Team', 'Footb...           593.0  2019   \n5215              ['Sports', 'Team', 'Football', 'Sim']          5236.0  2020   \n2085  ['Action', 'Shooter', 'First-Person', 'Tactical']            35.0  2017   \n2927              ['Sports', 'Team', 'Football', 'Sim']           246.0  2018   \n4053  ['Action', 'Sports', 'General', 'Team', 'Footb...           115.0  2019   \n2822                ['Sports', 'Team', 'Soccer', 'Sim']           234.0  2018   \n833               ['Sports', 'Baseball', 'Sim', 'Team']           237.0  2016   \n\n      score_delta  \n4871         74.0  \n4800         71.0  \n1858         69.0  \n4061         67.0  \n4029         66.0  \n4050         66.0  \n4775         66.0  \n4105         65.0  \n5121         65.0  \n5031         63.0  \n1895         63.0  \n2814         63.0  \n4905         63.0  \n4165         62.0  \n5215         61.0  \n2085         60.0  \n2927         60.0  \n4053         60.0  \n2822         60.0  \n833          59.0  ",
      "text/html": "<div>\n<style scoped>\n    .dataframe tbody tr th:only-of-type {\n        vertical-align: middle;\n    }\n\n    .dataframe tbody tr th {\n        vertical-align: top;\n    }\n\n    .dataframe thead th {\n        text-align: right;\n    }\n</style>\n<table border=\"1\" class=\"dataframe\">\n  <thead>\n    <tr style=\"text-align: right;\">\n      <th></th>\n      <th>name</th>\n      <th>date</th>\n      <th>platform</th>\n      <th>score</th>\n      <th>url</th>\n      <th>userscore</th>\n      <th>fullurl</th>\n      <th>developer</th>\n      <th>genre</th>\n      <th>no_userreviews</th>\n      <th>year</th>\n      <th>score_delta</th>\n    </tr>\n  </thead>\n  <tbody>\n    <tr>\n      <th>4871</th>\n      <td>Tom Clancy's The Division 2: Warlords of New York</td>\n      <td>2020-03-03</td>\n      <td>PC</td>\n      <td>79</td>\n      <td>/game/pc/tom-clancys-the-division-2-warlords-o...</td>\n      <td>5.0</td>\n      <td>https://www.metacritic.com/game/pc/tom-clancys...</td>\n      <td>Massive Entertainment</td>\n      <td>['Action', 'Shooter', 'Third-Person', 'Tactical']</td>\n      <td>1497.0</td>\n      <td>2020</td>\n      <td>74.0</td>\n    </tr>\n    <tr>\n      <th>4800</th>\n      <td>Tom Clancy's The Division 2: Warlords of New York</td>\n      <td>2020-03-03</td>\n      <td>Xbox One</td>\n      <td>82</td>\n      <td>/game/xbox-one/tom-clancys-the-division-2-warl...</td>\n      <td>11.0</td>\n      <td>https://www.metacritic.com/game/xbox-one/tom-c...</td>\n      <td>Massive Entertainment</td>\n      <td>['Action', 'Shooter', 'Third-Person', 'Tactical']</td>\n      <td>172.0</td>\n      <td>2020</td>\n      <td>71.0</td>\n    </tr>\n    <tr>\n      <th>1858</th>\n      <td>NBA 2K18</td>\n      <td>2017-09-15</td>\n      <td>Xbox One</td>\n      <td>85</td>\n      <td>/game/xbox-one/nba-2k18</td>\n      <td>16.0</td>\n      <td>https://www.metacritic.com/game/xbox-one/nba-2k18</td>\n      <td>2K Games</td>\n      <td>['Sports', 'Team', 'Basketball', 'Sim']</td>\n      <td>178.0</td>\n      <td>2017</td>\n      <td>69.0</td>\n    </tr>\n    <tr>\n      <th>4061</th>\n      <td>FIFA 20</td>\n      <td>2019-09-24</td>\n      <td>PlayStation 4</td>\n      <td>79</td>\n      <td>/game/playstation-4/fifa-20</td>\n      <td>12.0</td>\n      <td>https://www.metacritic.com/game/playstation-4/...</td>\n      <td>Electronic Arts</td>\n      <td>['Sports', 'Team', 'Soccer', 'Sim']</td>\n      <td>3332.0</td>\n      <td>2019</td>\n      <td>67.0</td>\n    </tr>\n    <tr>\n      <th>4029</th>\n      <td>NBA 2K20</td>\n      <td>2019-09-06</td>\n      <td>Xbox One</td>\n      <td>80</td>\n      <td>/game/xbox-one/nba-2k20</td>\n      <td>14.0</td>\n      <td>https://www.metacritic.com/game/xbox-one/nba-2k20</td>\n      <td>Visual Concepts</td>\n      <td>['Sports', 'Team', 'Basketball', 'Sim']</td>\n      <td>309.0</td>\n      <td>2019</td>\n      <td>66.0</td>\n    </tr>\n    <tr>\n      <th>4050</th>\n      <td>FIFA 20</td>\n      <td>2019-09-24</td>\n      <td>Xbox One</td>\n      <td>79</td>\n      <td>/game/xbox-one/fifa-20</td>\n      <td>13.0</td>\n      <td>https://www.metacritic.com/game/xbox-one/fifa-20</td>\n      <td>Electronic Arts</td>\n      <td>['Sports', 'Team', 'Soccer', 'Sim']</td>\n      <td>327.0</td>\n      <td>2019</td>\n      <td>66.0</td>\n    </tr>\n    <tr>\n      <th>4775</th>\n      <td>EA SPORTS UFC 4</td>\n      <td>2020-08-14</td>\n      <td>Xbox One</td>\n      <td>83</td>\n      <td>/game/xbox-one/ea-sports-ufc-4</td>\n      <td>17.0</td>\n      <td>https://www.metacritic.com/game/xbox-one/ea-sp...</td>\n      <td>Electronic Arts</td>\n      <td>['Sports', 'Individual', 'Combat', 'Boxing / M...</td>\n      <td>76.0</td>\n      <td>2020</td>\n      <td>66.0</td>\n    </tr>\n    <tr>\n      <th>4105</th>\n      <td>NBA 2K20</td>\n      <td>2019-09-06</td>\n      <td>PlayStation 4</td>\n      <td>78</td>\n      <td>/game/playstation-4/nba-2k20</td>\n      <td>13.0</td>\n      <td>https://www.metacritic.com/game/playstation-4/...</td>\n      <td>Visual Concepts</td>\n      <td>['Sports', 'Team', 'Basketball', 'Sim']</td>\n      <td>1122.0</td>\n      <td>2019</td>\n      <td>65.0</td>\n    </tr>\n    <tr>\n      <th>5121</th>\n      <td>Madden NFL 21</td>\n      <td>2020-08-25</td>\n      <td>Xbox One</td>\n      <td>69</td>\n      <td>/game/xbox-one/madden-nfl-21</td>\n      <td>4.0</td>\n      <td>https://www.metacritic.com/game/xbox-one/madde...</td>\n      <td>EA Sports</td>\n      <td>['Sports', 'Team', 'Football', 'Sim']</td>\n      <td>975.0</td>\n      <td>2020</td>\n      <td>65.0</td>\n    </tr>\n    <tr>\n      <th>5031</th>\n      <td>Tom Clancy's The Division 2: Warlords of New York</td>\n      <td>2020-03-03</td>\n      <td>PlayStation 4</td>\n      <td>74</td>\n      <td>/game/playstation-4/tom-clancys-the-division-2...</td>\n      <td>11.0</td>\n      <td>https://www.metacritic.com/game/playstation-4/...</td>\n      <td>Massive Entertainment</td>\n      <td>['Action', 'Shooter', 'Third-Person', 'Tactical']</td>\n      <td>442.0</td>\n      <td>2020</td>\n      <td>63.0</td>\n    </tr>\n    <tr>\n      <th>1895</th>\n      <td>NBA 2K18</td>\n      <td>2017-09-15</td>\n      <td>PlayStation 4</td>\n      <td>80</td>\n      <td>/game/playstation-4/nba-2k18</td>\n      <td>17.0</td>\n      <td>https://www.metacritic.com/game/playstation-4/...</td>\n      <td>Visual Concepts</td>\n      <td>['Arcade', 'Sports', 'Team', 'Basketball', 'Sim']</td>\n      <td>717.0</td>\n      <td>2017</td>\n      <td>63.0</td>\n    </tr>\n    <tr>\n      <th>2814</th>\n      <td>FIFA 19</td>\n      <td>2018-09-25</td>\n      <td>PlayStation 4</td>\n      <td>83</td>\n      <td>/game/playstation-4/fifa-19</td>\n      <td>20.0</td>\n      <td>https://www.metacritic.com/game/playstation-4/...</td>\n      <td>EA Sports</td>\n      <td>['Sports', 'Team', 'Soccer', 'Sim']</td>\n      <td>1145.0</td>\n      <td>2018</td>\n      <td>63.0</td>\n    </tr>\n    <tr>\n      <th>4905</th>\n      <td>EA SPORTS UFC 4</td>\n      <td>2020-08-14</td>\n      <td>PlayStation 4</td>\n      <td>78</td>\n      <td>/game/playstation-4/ea-sports-ufc-4</td>\n      <td>15.0</td>\n      <td>https://www.metacritic.com/game/playstation-4/...</td>\n      <td>Electronic Arts</td>\n      <td>['Sports', 'Individual', 'Combat', 'Boxing / M...</td>\n      <td>364.0</td>\n      <td>2020</td>\n      <td>63.0</td>\n    </tr>\n    <tr>\n      <th>4165</th>\n      <td>Madden NFL 20</td>\n      <td>2019-07-30</td>\n      <td>PlayStation 4</td>\n      <td>76</td>\n      <td>/game/playstation-4/madden-nfl-20</td>\n      <td>14.0</td>\n      <td>https://www.metacritic.com/game/playstation-4/...</td>\n      <td>Electronic Arts</td>\n      <td>['Action', 'Sports', 'General', 'Team', 'Footb...</td>\n      <td>593.0</td>\n      <td>2019</td>\n      <td>62.0</td>\n    </tr>\n    <tr>\n      <th>5215</th>\n      <td>Madden NFL 21</td>\n      <td>2020-08-25</td>\n      <td>PlayStation 4</td>\n      <td>63</td>\n      <td>/game/playstation-4/madden-nfl-21</td>\n      <td>2.0</td>\n      <td>https://www.metacritic.com/game/playstation-4/...</td>\n      <td>EA Sports</td>\n      <td>['Sports', 'Team', 'Football', 'Sim']</td>\n      <td>5236.0</td>\n      <td>2020</td>\n      <td>61.0</td>\n    </tr>\n    <tr>\n      <th>2085</th>\n      <td>Call of Duty: Infinite Warfare - Sabotage</td>\n      <td>2017-01-31</td>\n      <td>PlayStation 4</td>\n      <td>76</td>\n      <td>/game/playstation-4/call-of-duty-infinite-warf...</td>\n      <td>16.0</td>\n      <td>https://www.metacritic.com/game/playstation-4/...</td>\n      <td>Infinity Ward</td>\n      <td>['Action', 'Shooter', 'First-Person', 'Tactical']</td>\n      <td>35.0</td>\n      <td>2017</td>\n      <td>60.0</td>\n    </tr>\n    <tr>\n      <th>2927</th>\n      <td>Madden NFL 19</td>\n      <td>2018-08-10</td>\n      <td>PlayStation 4</td>\n      <td>80</td>\n      <td>/game/playstation-4/madden-nfl-19</td>\n      <td>20.0</td>\n      <td>https://www.metacritic.com/game/playstation-4/...</td>\n      <td>EA Tiburon</td>\n      <td>['Sports', 'Team', 'Football', 'Sim']</td>\n      <td>246.0</td>\n      <td>2018</td>\n      <td>60.0</td>\n    </tr>\n    <tr>\n      <th>4053</th>\n      <td>Madden NFL 20</td>\n      <td>2019-07-30</td>\n      <td>Xbox One</td>\n      <td>79</td>\n      <td>/game/xbox-one/madden-nfl-20</td>\n      <td>19.0</td>\n      <td>https://www.metacritic.com/game/xbox-one/madde...</td>\n      <td>Electronic Arts, EA Tiburon</td>\n      <td>['Action', 'Sports', 'General', 'Team', 'Footb...</td>\n      <td>115.0</td>\n      <td>2019</td>\n      <td>60.0</td>\n    </tr>\n    <tr>\n      <th>2822</th>\n      <td>FIFA 19</td>\n      <td>2018-09-25</td>\n      <td>Xbox One</td>\n      <td>83</td>\n      <td>/game/xbox-one/fifa-19</td>\n      <td>23.0</td>\n      <td>https://www.metacritic.com/game/xbox-one/fifa-19</td>\n      <td>EA Sports</td>\n      <td>['Sports', 'Team', 'Soccer', 'Sim']</td>\n      <td>234.0</td>\n      <td>2018</td>\n      <td>60.0</td>\n    </tr>\n    <tr>\n      <th>833</th>\n      <td>Out of the Park Baseball 17</td>\n      <td>2016-03-22</td>\n      <td>PC</td>\n      <td>92</td>\n      <td>/game/pc/out-of-the-park-baseball-17</td>\n      <td>33.0</td>\n      <td>https://www.metacritic.com/game/pc/out-of-the-...</td>\n      <td>Out Of The Park Developments</td>\n      <td>['Sports', 'Baseball', 'Sim', 'Team']</td>\n      <td>237.0</td>\n      <td>2016</td>\n      <td>59.0</td>\n    </tr>\n  </tbody>\n</table>\n</div>"
     },
     "metadata": {},
     "execution_count": 21
    }
   ],
   "source": [
    "mc['score_delta'] = mc['score'] - mc['userscore']\n",
    "withdelta = mc.sort_values('score_delta', ascending=False)\n",
    "withdelta.head(20)\n",
    " "
   ]
  },
  {
   "cell_type": "code",
   "execution_count": 22,
   "metadata": {
    "tags": []
   },
   "outputs": [
    {
     "output_type": "stream",
     "name": "stdout",
     "text": "[                   score  userscore  no_userreviews      year  score_delta\nscore           1.000000   0.491590        0.210775  0.053037     0.283203\nuserscore       0.491590   1.000000        0.015777 -0.056192    -0.695955\nno_userreviews  0.210775   0.015777        1.000000 -0.050763     0.156429\nyear            0.053037  -0.056192       -0.050763  1.000000     0.105855\nscore_delta     0.283203  -0.695955        0.156429  0.105855     1.000000]\n"
    }
   ],
   "source": [
    "pprint(corr_machine(raw(withdelta)))"
   ]
  },
  {
   "cell_type": "code",
   "execution_count": 23,
   "metadata": {
    "tags": []
   },
   "outputs": [
    {
     "output_type": "stream",
     "name": "stdout",
     "text": "[(0.39957754342206014, array([2020])),\n (-0.05069993992986689, array([2020])),\n (0.4823022256208037, array([2017])),\n (-0.006313880803674716, array([2017])),\n (0.46505194372553715, array([2019])),\n (-0.02804207382972978, array([2019])),\n (0.5491101702729779, array([2018])),\n (-0.04967194136649846, array([2018])),\n (0.5217574425864926, array([2016])),\n (0.11044001305391961, array([2016])),\n (0.557213851540597, array([2015])),\n (0.1147550113377041, array([2015]))]\n"
    }
   ],
   "source": [
    "pprint(corr_machine(splitYears(withdelta)))"
   ]
  },
  {
   "cell_type": "code",
   "execution_count": null,
   "metadata": {},
   "outputs": [],
   "source": []
  }
 ]
}