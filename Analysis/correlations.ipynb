{
 "metadata": {
  "language_info": {
   "codemirror_mode": {
    "name": "ipython",
    "version": 3
   },
   "file_extension": ".py",
   "mimetype": "text/x-python",
   "name": "python",
   "nbconvert_exporter": "python",
   "pygments_lexer": "ipython3",
   "version": "3.8.2-final"
  },
  "orig_nbformat": 2,
  "kernelspec": {
   "name": "python38264bitmetacriticpipenv62869e1a7a93415086696beecf2b8a42",
   "display_name": "Python 3.8.2 64-bit ('Metacritic': pipenv)"
  }
 },
 "nbformat": 4,
 "nbformat_minor": 2,
 "cells": [
  {
   "cell_type": "code",
   "execution_count": 1,
   "metadata": {},
   "outputs": [],
   "source": [
    "import pandas as pd\n",
    "from pprint import pprint\n",
    "#from datetime import datetime"
   ]
  },
  {
   "cell_type": "code",
   "execution_count": 2,
   "metadata": {},
   "outputs": [],
   "source": [
    "mc = pd.read_csv('metacritic_cleaned.csv')\n",
    "mc.drop([\"Unnamed: 0\"], axis=1, inplace=True) #delte extra generated columns\n",
    "#mc.head()"
   ]
  },
  {
   "cell_type": "code",
   "execution_count": 3,
   "metadata": {},
   "outputs": [],
   "source": [
    "#create dataframe with score deltas and sorted\n",
    "mc['score_delta'] = mc['score'] - mc['userscore']\n",
    "withdelta = mc.sort_values('score_delta', ascending=False)\n",
    "#withdelta.head(20)\n",
    " "
   ]
  },
  {
   "cell_type": "code",
   "execution_count": 9,
   "metadata": {},
   "outputs": [],
   "source": [
    "#function that splits dataframe into years, months, devloper, raw -- to be passed into corr_machine function\n",
    "def splitYears(df): #Splits data by year\n",
    "    df['year'] = pd.DatetimeIndex(df['date']).year\n",
    "    return ([df[df['year'] == y] for y in df['year'].unique()], 'year')\n",
    "def splitMonth(df): #splits data by month\n",
    "    df['month'] = pd.DatetimeIndex(df['date']).month\n",
    "    return ([df[df['month'] == m] for m in df['month'].unique()], 'month')\n",
    "def splitdev(df): #splits data by developer\n",
    "    return ([df[df['developer'] == dev] for dev in df['developer'].unique()], 'developer') \n",
    "def raw(df): #raw correlation\n",
    "    return (([df]), 'raw')\n"
   ]
  },
  {
   "cell_type": "code",
   "execution_count": 10,
   "metadata": {
    "tags": []
   },
   "outputs": [],
   "source": [
    "#function that takes one argument(a function containing a dataframe and a string) and returns a corrleation matrix[dataframe]\n",
    "def corr_machine(function):\n",
    "    data = [] #make a dict ['score']['userscore']\n",
    "    for df in function[0]:\n",
    "        try:\n",
    "            data.append((df.corr(method=\"pearson\", min_periods=30)['score']['userscore'], df[function[1]].unique()))\n",
    "            data.append((df.corr(method=\"pearson\", min_periods=30)['no_userreviews']['userscore'], df[function[1]].unique()))\n",
    "        except KeyError:\n",
    "            data.append((df.corr(method=\"pearson\", min_periods=30)))\n",
    "    return data"
   ]
  },
  {
   "cell_type": "code",
   "execution_count": 14,
   "metadata": {
    "tags": []
   },
   "outputs": [
    {
     "output_type": "stream",
     "name": "stdout",
     "text": "[                   score  userscore  no_userreviews  score_delta\nscore           1.000000   0.491590        0.210775     0.283203\nuserscore       0.491590   1.000000        0.015777    -0.695955\nno_userreviews  0.210775   0.015777        1.000000     0.156429\nscore_delta     0.283203  -0.695955        0.156429     1.000000]\n"
    }
   ],
   "source": [
    "pprint(corr_machine(raw(mc)))"
   ]
  },
  {
   "cell_type": "code",
   "execution_count": null,
   "metadata": {
    "tags": []
   },
   "outputs": [],
   "source": [
    "pprint(corr_machine(raw(withdelta)))"
   ]
  },
  {
   "cell_type": "code",
   "execution_count": null,
   "metadata": {
    "tags": []
   },
   "outputs": [],
   "source": [
    "pprint(corr_machine(splitYears(withdelta)))"
   ]
  },
  {
   "cell_type": "code",
   "execution_count": null,
   "metadata": {},
   "outputs": [],
   "source": []
  }
 ]
}