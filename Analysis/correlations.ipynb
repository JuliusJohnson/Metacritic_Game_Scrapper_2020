{
 "metadata": {
  "language_info": {
   "codemirror_mode": {
    "name": "ipython",
    "version": 3
   },
   "file_extension": ".py",
   "mimetype": "text/x-python",
   "name": "python",
   "nbconvert_exporter": "python",
   "pygments_lexer": "ipython3",
   "version": "3.8.2-final"
  },
  "orig_nbformat": 2,
  "kernelspec": {
   "name": "python38264bitmetacriticpipenv62869e1a7a93415086696beecf2b8a42",
   "display_name": "Python 3.8.2 64-bit ('Metacritic': pipenv)"
  }
 },
 "nbformat": 4,
 "nbformat_minor": 2,
 "cells": [
  {
   "cell_type": "code",
   "execution_count": 14,
   "metadata": {},
   "outputs": [],
   "source": [
    "import pandas as pd\n",
    "from pprint import pprint\n",
    "#from datetime import datetime"
   ]
  },
  {
   "cell_type": "code",
   "execution_count": 15,
   "metadata": {},
   "outputs": [],
   "source": [
    "mc = pd.read_csv('metacritic_cleaned.csv')\n",
    "mc.drop([\"Unnamed: 0\"], axis=1, inplace=True) #delte extra generated columns\n",
    "#mc.head()"
   ]
  },
  {
   "cell_type": "code",
   "execution_count": 16,
   "metadata": {},
   "outputs": [],
   "source": [
    "def splitYears(df):\n",
    "    df['year'] = pd.DatetimeIndex(df['date']).year\n",
    "    return ([df[df['year'] == y] for y in df['year'].unique()], 'year')\n",
    "def splitMonth(df):\n",
    "    df['month'] = pd.DatetimeIndex(df['date']).month\n",
    "    return ([df[df['month'] == m] for m in df['month'].unique()], 'month')\n",
    "def splitdev(df):\n",
    "    return ([df[df['developer'] == dev] for dev in df['developer'].unique()], 'developer') \n"
   ]
  },
  {
   "cell_type": "code",
   "execution_count": 17,
   "metadata": {
    "tags": []
   },
   "outputs": [],
   "source": [
    "def corr_machine(function):\n",
    "    data = [] #make a dict\n",
    "    for df in function[0]:\n",
    "        data.append((df.corr(method=\"pearson\", min_periods=30)['score']['userscore'], df[function[1]].unique()))\n",
    "    return data"
   ]
  },
  {
   "cell_type": "code",
   "execution_count": 18,
   "metadata": {
    "tags": []
   },
   "outputs": [
    {
     "output_type": "stream",
     "name": "stdout",
     "text": "[(0.5204671838687944, array([4])),\n (0.30953140863278245, array([9])),\n (0.5876100768130634, array([5])),\n (0.46877903713762725, array([7])),\n (0.4413419366673066, array([3])),\n (0.5205352500753772, array([10])),\n (0.5494425220826489, array([2])),\n (0.4292482457701282, array([8])),\n (0.5987115590037628, array([12])),\n (0.5362427056928302, array([11])),\n (0.6034525648979487, array([6])),\n (0.5246992123478806, array([1]))]\n"
    }
   ],
   "source": [
    "pprint(corr_machine(splitMonth(mc)))"
   ]
  },
  {
   "cell_type": "code",
   "execution_count": 37,
   "metadata": {},
   "outputs": [
    {
     "output_type": "execute_result",
     "data": {
      "text/plain": "                                                   name        date  \\\n5137  Tom Clancy's The Division 2: Warlords of New York  2020-03-03   \n5059  Tom Clancy's The Division 2: Warlords of New York  2020-03-03   \n1935                                           NBA 2K18  2017-09-15   \n4273                                            FIFA 20  2019-09-24   \n5034                                    EA SPORTS UFC 4  2020-08-14   \n4262                                            FIFA 20  2019-09-24   \n4241                                           NBA 2K20  2019-09-06   \n4317                                           NBA 2K20  2019-09-06   \n5415                                      Madden NFL 21  2020-08-25   \n1973                                           NBA 2K18  2017-09-15   \n5173                                    EA SPORTS UFC 4  2020-08-14   \n2957                                            FIFA 19  2018-09-25   \n5311  Tom Clancy's The Division 2: Warlords of New York  2020-03-03   \n4380                                      Madden NFL 20  2019-07-30   \n5536                                      Madden NFL 21  2020-08-25   \n2166          Call of Duty: Infinite Warfare - Sabotage  2017-01-31   \n4265                                      Madden NFL 20  2019-07-30   \n2965                                            FIFA 19  2018-09-25   \n3074                                      Madden NFL 19  2018-08-10   \n5432                                           NBA 2K21  2020-09-04   \n\n           platform  score                                                url  \\\n5137             PC     79  /game/pc/tom-clancys-the-division-2-warlords-o...   \n5059       Xbox One     82  /game/xbox-one/tom-clancys-the-division-2-warl...   \n1935       Xbox One     85                            /game/xbox-one/nba-2k18   \n4273  PlayStation 4     79                        /game/playstation-4/fifa-20   \n5034       Xbox One     83                     /game/xbox-one/ea-sports-ufc-4   \n4262       Xbox One     79                             /game/xbox-one/fifa-20   \n4241       Xbox One     80                            /game/xbox-one/nba-2k20   \n4317  PlayStation 4     78                       /game/playstation-4/nba-2k20   \n5415       Xbox One     69                       /game/xbox-one/madden-nfl-21   \n1973  PlayStation 4     80                       /game/playstation-4/nba-2k18   \n5173  PlayStation 4     78                /game/playstation-4/ea-sports-ufc-4   \n2957  PlayStation 4     83                        /game/playstation-4/fifa-19   \n5311  PlayStation 4     74  /game/playstation-4/tom-clancys-the-division-2...   \n4380  PlayStation 4     76                  /game/playstation-4/madden-nfl-20   \n5536  PlayStation 4     63                  /game/playstation-4/madden-nfl-21   \n2166  PlayStation 4     76  /game/playstation-4/call-of-duty-infinite-warf...   \n4265       Xbox One     79                       /game/xbox-one/madden-nfl-20   \n2965       Xbox One     83                             /game/xbox-one/fifa-19   \n3074  PlayStation 4     80                  /game/playstation-4/madden-nfl-19   \n5432  PlayStation 4     69                       /game/playstation-4/nba-2k21   \n\n      userscore                                            fullurl  \\\n5137        5.0  https://www.metacritic.com/game/pc/tom-clancys...   \n5059       11.0  https://www.metacritic.com/game/xbox-one/tom-c...   \n1935       16.0  https://www.metacritic.com/game/xbox-one/nba-2k18   \n4273       12.0  https://www.metacritic.com/game/playstation-4/...   \n5034       17.0  https://www.metacritic.com/game/xbox-one/ea-sp...   \n4262       13.0   https://www.metacritic.com/game/xbox-one/fifa-20   \n4241       14.0  https://www.metacritic.com/game/xbox-one/nba-2k20   \n4317       13.0  https://www.metacritic.com/game/playstation-4/...   \n5415        4.0  https://www.metacritic.com/game/xbox-one/madde...   \n1973       17.0  https://www.metacritic.com/game/playstation-4/...   \n5173       15.0  https://www.metacritic.com/game/playstation-4/...   \n2957       20.0  https://www.metacritic.com/game/playstation-4/...   \n5311       11.0  https://www.metacritic.com/game/playstation-4/...   \n4380       14.0  https://www.metacritic.com/game/playstation-4/...   \n5536        2.0  https://www.metacritic.com/game/playstation-4/...   \n2166       16.0  https://www.metacritic.com/game/playstation-4/...   \n4265       19.0  https://www.metacritic.com/game/xbox-one/madde...   \n2965       23.0   https://www.metacritic.com/game/xbox-one/fifa-19   \n3074       20.0  https://www.metacritic.com/game/playstation-4/...   \n5432       10.0  https://www.metacritic.com/game/playstation-4/...   \n\n                        developer  \\\n5137        Massive Entertainment   \n5059        Massive Entertainment   \n1935                     2K Games   \n4273              Electronic Arts   \n5034              Electronic Arts   \n4262              Electronic Arts   \n4241              Visual Concepts   \n4317              Visual Concepts   \n5415                    EA Sports   \n1973              Visual Concepts   \n5173              Electronic Arts   \n2957                    EA Sports   \n5311        Massive Entertainment   \n4380              Electronic Arts   \n5536                    EA Sports   \n2166                Infinity Ward   \n4265  Electronic Arts, EA Tiburon   \n2965                    EA Sports   \n3074                   EA Tiburon   \n5432              Visual Concepts   \n\n                                                  genre  month  score_delta  \n5137  ['Action', 'Shooter', 'Third-Person', 'Tactical']      3         74.0  \n5059  ['Action', 'Shooter', 'Third-Person', 'Tactical']      3         71.0  \n1935            ['Sports', 'Team', 'Basketball', 'Sim']      9         69.0  \n4273                ['Sports', 'Team', 'Soccer', 'Sim']      9         67.0  \n5034  ['Sports', 'Individual', 'Combat', 'Boxing / M...      8         66.0  \n4262                ['Sports', 'Team', 'Soccer', 'Sim']      9         66.0  \n4241            ['Sports', 'Team', 'Basketball', 'Sim']      9         66.0  \n4317            ['Sports', 'Team', 'Basketball', 'Sim']      9         65.0  \n5415              ['Sports', 'Team', 'Football', 'Sim']      8         65.0  \n1973  ['Arcade', 'Sports', 'Team', 'Basketball', 'Sim']      9         63.0  \n5173  ['Sports', 'Individual', 'Combat', 'Boxing / M...      8         63.0  \n2957                ['Sports', 'Team', 'Soccer', 'Sim']      9         63.0  \n5311  ['Action', 'Shooter', 'Third-Person', 'Tactical']      3         63.0  \n4380  ['Action', 'Sports', 'General', 'Team', 'Footb...      7         62.0  \n5536              ['Sports', 'Team', 'Football', 'Sim']      8         61.0  \n2166  ['Action', 'Shooter', 'First-Person', 'Tactical']      1         60.0  \n4265  ['Action', 'Sports', 'General', 'Team', 'Footb...      7         60.0  \n2965                ['Sports', 'Team', 'Soccer', 'Sim']      9         60.0  \n3074              ['Sports', 'Team', 'Football', 'Sim']      8         60.0  \n5432         ['Sports', 'Basketball', 'Arcade', 'Team']      9         59.0  ",
      "text/html": "<div>\n<style scoped>\n    .dataframe tbody tr th:only-of-type {\n        vertical-align: middle;\n    }\n\n    .dataframe tbody tr th {\n        vertical-align: top;\n    }\n\n    .dataframe thead th {\n        text-align: right;\n    }\n</style>\n<table border=\"1\" class=\"dataframe\">\n  <thead>\n    <tr style=\"text-align: right;\">\n      <th></th>\n      <th>name</th>\n      <th>date</th>\n      <th>platform</th>\n      <th>score</th>\n      <th>url</th>\n      <th>userscore</th>\n      <th>fullurl</th>\n      <th>developer</th>\n      <th>genre</th>\n      <th>month</th>\n      <th>score_delta</th>\n    </tr>\n  </thead>\n  <tbody>\n    <tr>\n      <th>5137</th>\n      <td>Tom Clancy's The Division 2: Warlords of New York</td>\n      <td>2020-03-03</td>\n      <td>PC</td>\n      <td>79</td>\n      <td>/game/pc/tom-clancys-the-division-2-warlords-o...</td>\n      <td>5.0</td>\n      <td>https://www.metacritic.com/game/pc/tom-clancys...</td>\n      <td>Massive Entertainment</td>\n      <td>['Action', 'Shooter', 'Third-Person', 'Tactical']</td>\n      <td>3</td>\n      <td>74.0</td>\n    </tr>\n    <tr>\n      <th>5059</th>\n      <td>Tom Clancy's The Division 2: Warlords of New York</td>\n      <td>2020-03-03</td>\n      <td>Xbox One</td>\n      <td>82</td>\n      <td>/game/xbox-one/tom-clancys-the-division-2-warl...</td>\n      <td>11.0</td>\n      <td>https://www.metacritic.com/game/xbox-one/tom-c...</td>\n      <td>Massive Entertainment</td>\n      <td>['Action', 'Shooter', 'Third-Person', 'Tactical']</td>\n      <td>3</td>\n      <td>71.0</td>\n    </tr>\n    <tr>\n      <th>1935</th>\n      <td>NBA 2K18</td>\n      <td>2017-09-15</td>\n      <td>Xbox One</td>\n      <td>85</td>\n      <td>/game/xbox-one/nba-2k18</td>\n      <td>16.0</td>\n      <td>https://www.metacritic.com/game/xbox-one/nba-2k18</td>\n      <td>2K Games</td>\n      <td>['Sports', 'Team', 'Basketball', 'Sim']</td>\n      <td>9</td>\n      <td>69.0</td>\n    </tr>\n    <tr>\n      <th>4273</th>\n      <td>FIFA 20</td>\n      <td>2019-09-24</td>\n      <td>PlayStation 4</td>\n      <td>79</td>\n      <td>/game/playstation-4/fifa-20</td>\n      <td>12.0</td>\n      <td>https://www.metacritic.com/game/playstation-4/...</td>\n      <td>Electronic Arts</td>\n      <td>['Sports', 'Team', 'Soccer', 'Sim']</td>\n      <td>9</td>\n      <td>67.0</td>\n    </tr>\n    <tr>\n      <th>5034</th>\n      <td>EA SPORTS UFC 4</td>\n      <td>2020-08-14</td>\n      <td>Xbox One</td>\n      <td>83</td>\n      <td>/game/xbox-one/ea-sports-ufc-4</td>\n      <td>17.0</td>\n      <td>https://www.metacritic.com/game/xbox-one/ea-sp...</td>\n      <td>Electronic Arts</td>\n      <td>['Sports', 'Individual', 'Combat', 'Boxing / M...</td>\n      <td>8</td>\n      <td>66.0</td>\n    </tr>\n    <tr>\n      <th>4262</th>\n      <td>FIFA 20</td>\n      <td>2019-09-24</td>\n      <td>Xbox One</td>\n      <td>79</td>\n      <td>/game/xbox-one/fifa-20</td>\n      <td>13.0</td>\n      <td>https://www.metacritic.com/game/xbox-one/fifa-20</td>\n      <td>Electronic Arts</td>\n      <td>['Sports', 'Team', 'Soccer', 'Sim']</td>\n      <td>9</td>\n      <td>66.0</td>\n    </tr>\n    <tr>\n      <th>4241</th>\n      <td>NBA 2K20</td>\n      <td>2019-09-06</td>\n      <td>Xbox One</td>\n      <td>80</td>\n      <td>/game/xbox-one/nba-2k20</td>\n      <td>14.0</td>\n      <td>https://www.metacritic.com/game/xbox-one/nba-2k20</td>\n      <td>Visual Concepts</td>\n      <td>['Sports', 'Team', 'Basketball', 'Sim']</td>\n      <td>9</td>\n      <td>66.0</td>\n    </tr>\n    <tr>\n      <th>4317</th>\n      <td>NBA 2K20</td>\n      <td>2019-09-06</td>\n      <td>PlayStation 4</td>\n      <td>78</td>\n      <td>/game/playstation-4/nba-2k20</td>\n      <td>13.0</td>\n      <td>https://www.metacritic.com/game/playstation-4/...</td>\n      <td>Visual Concepts</td>\n      <td>['Sports', 'Team', 'Basketball', 'Sim']</td>\n      <td>9</td>\n      <td>65.0</td>\n    </tr>\n    <tr>\n      <th>5415</th>\n      <td>Madden NFL 21</td>\n      <td>2020-08-25</td>\n      <td>Xbox One</td>\n      <td>69</td>\n      <td>/game/xbox-one/madden-nfl-21</td>\n      <td>4.0</td>\n      <td>https://www.metacritic.com/game/xbox-one/madde...</td>\n      <td>EA Sports</td>\n      <td>['Sports', 'Team', 'Football', 'Sim']</td>\n      <td>8</td>\n      <td>65.0</td>\n    </tr>\n    <tr>\n      <th>1973</th>\n      <td>NBA 2K18</td>\n      <td>2017-09-15</td>\n      <td>PlayStation 4</td>\n      <td>80</td>\n      <td>/game/playstation-4/nba-2k18</td>\n      <td>17.0</td>\n      <td>https://www.metacritic.com/game/playstation-4/...</td>\n      <td>Visual Concepts</td>\n      <td>['Arcade', 'Sports', 'Team', 'Basketball', 'Sim']</td>\n      <td>9</td>\n      <td>63.0</td>\n    </tr>\n    <tr>\n      <th>5173</th>\n      <td>EA SPORTS UFC 4</td>\n      <td>2020-08-14</td>\n      <td>PlayStation 4</td>\n      <td>78</td>\n      <td>/game/playstation-4/ea-sports-ufc-4</td>\n      <td>15.0</td>\n      <td>https://www.metacritic.com/game/playstation-4/...</td>\n      <td>Electronic Arts</td>\n      <td>['Sports', 'Individual', 'Combat', 'Boxing / M...</td>\n      <td>8</td>\n      <td>63.0</td>\n    </tr>\n    <tr>\n      <th>2957</th>\n      <td>FIFA 19</td>\n      <td>2018-09-25</td>\n      <td>PlayStation 4</td>\n      <td>83</td>\n      <td>/game/playstation-4/fifa-19</td>\n      <td>20.0</td>\n      <td>https://www.metacritic.com/game/playstation-4/...</td>\n      <td>EA Sports</td>\n      <td>['Sports', 'Team', 'Soccer', 'Sim']</td>\n      <td>9</td>\n      <td>63.0</td>\n    </tr>\n    <tr>\n      <th>5311</th>\n      <td>Tom Clancy's The Division 2: Warlords of New York</td>\n      <td>2020-03-03</td>\n      <td>PlayStation 4</td>\n      <td>74</td>\n      <td>/game/playstation-4/tom-clancys-the-division-2...</td>\n      <td>11.0</td>\n      <td>https://www.metacritic.com/game/playstation-4/...</td>\n      <td>Massive Entertainment</td>\n      <td>['Action', 'Shooter', 'Third-Person', 'Tactical']</td>\n      <td>3</td>\n      <td>63.0</td>\n    </tr>\n    <tr>\n      <th>4380</th>\n      <td>Madden NFL 20</td>\n      <td>2019-07-30</td>\n      <td>PlayStation 4</td>\n      <td>76</td>\n      <td>/game/playstation-4/madden-nfl-20</td>\n      <td>14.0</td>\n      <td>https://www.metacritic.com/game/playstation-4/...</td>\n      <td>Electronic Arts</td>\n      <td>['Action', 'Sports', 'General', 'Team', 'Footb...</td>\n      <td>7</td>\n      <td>62.0</td>\n    </tr>\n    <tr>\n      <th>5536</th>\n      <td>Madden NFL 21</td>\n      <td>2020-08-25</td>\n      <td>PlayStation 4</td>\n      <td>63</td>\n      <td>/game/playstation-4/madden-nfl-21</td>\n      <td>2.0</td>\n      <td>https://www.metacritic.com/game/playstation-4/...</td>\n      <td>EA Sports</td>\n      <td>['Sports', 'Team', 'Football', 'Sim']</td>\n      <td>8</td>\n      <td>61.0</td>\n    </tr>\n    <tr>\n      <th>2166</th>\n      <td>Call of Duty: Infinite Warfare - Sabotage</td>\n      <td>2017-01-31</td>\n      <td>PlayStation 4</td>\n      <td>76</td>\n      <td>/game/playstation-4/call-of-duty-infinite-warf...</td>\n      <td>16.0</td>\n      <td>https://www.metacritic.com/game/playstation-4/...</td>\n      <td>Infinity Ward</td>\n      <td>['Action', 'Shooter', 'First-Person', 'Tactical']</td>\n      <td>1</td>\n      <td>60.0</td>\n    </tr>\n    <tr>\n      <th>4265</th>\n      <td>Madden NFL 20</td>\n      <td>2019-07-30</td>\n      <td>Xbox One</td>\n      <td>79</td>\n      <td>/game/xbox-one/madden-nfl-20</td>\n      <td>19.0</td>\n      <td>https://www.metacritic.com/game/xbox-one/madde...</td>\n      <td>Electronic Arts, EA Tiburon</td>\n      <td>['Action', 'Sports', 'General', 'Team', 'Footb...</td>\n      <td>7</td>\n      <td>60.0</td>\n    </tr>\n    <tr>\n      <th>2965</th>\n      <td>FIFA 19</td>\n      <td>2018-09-25</td>\n      <td>Xbox One</td>\n      <td>83</td>\n      <td>/game/xbox-one/fifa-19</td>\n      <td>23.0</td>\n      <td>https://www.metacritic.com/game/xbox-one/fifa-19</td>\n      <td>EA Sports</td>\n      <td>['Sports', 'Team', 'Soccer', 'Sim']</td>\n      <td>9</td>\n      <td>60.0</td>\n    </tr>\n    <tr>\n      <th>3074</th>\n      <td>Madden NFL 19</td>\n      <td>2018-08-10</td>\n      <td>PlayStation 4</td>\n      <td>80</td>\n      <td>/game/playstation-4/madden-nfl-19</td>\n      <td>20.0</td>\n      <td>https://www.metacritic.com/game/playstation-4/...</td>\n      <td>EA Tiburon</td>\n      <td>['Sports', 'Team', 'Football', 'Sim']</td>\n      <td>8</td>\n      <td>60.0</td>\n    </tr>\n    <tr>\n      <th>5432</th>\n      <td>NBA 2K21</td>\n      <td>2020-09-04</td>\n      <td>PlayStation 4</td>\n      <td>69</td>\n      <td>/game/playstation-4/nba-2k21</td>\n      <td>10.0</td>\n      <td>https://www.metacritic.com/game/playstation-4/...</td>\n      <td>Visual Concepts</td>\n      <td>['Sports', 'Basketball', 'Arcade', 'Team']</td>\n      <td>9</td>\n      <td>59.0</td>\n    </tr>\n  </tbody>\n</table>\n</div>"
     },
     "metadata": {},
     "execution_count": 37
    }
   ],
   "source": [
    "mc['score_delta'] = mc['score'] - mc['userscore']\n",
    "mc.sort_values('score_delta', ascending=False).head(20)"
   ]
  },
  {
   "cell_type": "code",
   "execution_count": null,
   "metadata": {},
   "outputs": [],
   "source": []
  }
 ]
}