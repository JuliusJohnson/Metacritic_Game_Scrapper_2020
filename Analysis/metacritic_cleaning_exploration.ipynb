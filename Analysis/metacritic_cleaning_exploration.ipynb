{
 "metadata": {
  "language_info": {
   "codemirror_mode": {
    "name": "ipython",
    "version": 3
   },
   "file_extension": ".py",
   "mimetype": "text/x-python",
   "name": "python",
   "nbconvert_exporter": "python",
   "pygments_lexer": "ipython3",
   "version": "3.8.5-final"
  },
  "orig_nbformat": 2,
  "kernelspec": {
   "name": "python38264bitmetacriticpipenv62869e1a7a93415086696beecf2b8a42",
   "display_name": "Python 3.8.2 64-bit ('Metacritic': pipenv)"
  }
 },
 "nbformat": 4,
 "nbformat_minor": 2,
 "cells": [
  {
   "cell_type": "code",
   "execution_count": 2,
   "metadata": {},
   "outputs": [],
   "source": [
    "import numpy as np\n",
    "import pandas as pd\n",
    "from pandas_profiling import ProfileReport"
   ]
  },
  {
   "cell_type": "code",
   "execution_count": 6,
   "metadata": {
    "tags": []
   },
   "outputs": [
    {
     "output_type": "stream",
     "name": "stdout",
     "text": [
      "Unnamed: 0         int64\nUnnamed: 0.1       int64\nname              object\ndate              object\nplatform          object\nscore              int64\nurl               object\nuserscore         object\nfullurl           object\ndeveloper         object\ngenre             object\nno_userreviews    object\ndtype: object\n"
     ]
    }
   ],
   "source": [
    "df = pd.read_csv('../metacritic_output.csv')\n",
    "df['userscore'] = df['userscore'].replace('tbd',np.nan) #cleaning output metacritic output\n",
    "df['no_userreviews'] = df['no_userreviews'].replace('No Data', np.nan) #creates a new columns for the number of user reviews and converts data to a useable format\n",
    "df['userscore'] = df['userscore'].astype(str).astype(float)  # A little unintuitive; the userscore field can't be directly changed to a float, so must take advantage of Python's fuzzy typing to convert from object to float\n",
    "df['userscore'] = df['userscore'] * 10 # standardizing userscores with critic scores\n",
    "df['no_userreviews'] = df['no_userreviews'].astype(str).astype(float)\n",
    "df.dtypes\n"
   ]
  },
  {
   "cell_type": "code",
   "execution_count": 3,
   "metadata": {},
   "outputs": [],
   "source": [
    "df.drop([\"Unnamed: 0\", \"Unnamed: 0.1\"], axis=1, inplace=True) #delete extra generated columns\n"
   ]
  },
  {
   "cell_type": "code",
   "execution_count": 4,
   "metadata": {},
   "outputs": [
    {
     "output_type": "execute_result",
     "data": {
      "text/plain": "name                      object\ndate              datetime64[ns]\nplatform                  object\nscore                      int64\nurl                       object\nuserscore                float64\nfullurl                   object\ndeveloper                 object\ngenre                     object\nno_userreviews           float64\ndtype: object"
     },
     "metadata": {},
     "execution_count": 4
    }
   ],
   "source": [
    "df['date'] = pd.to_datetime(df['date'], format='%B %d, %Y') #Convert date to something we can use programmatically\n",
    "df.dtypes"
   ]
  },
  {
   "cell_type": "code",
   "execution_count": 5,
   "metadata": {},
   "outputs": [
    {
     "output_type": "execute_result",
     "data": {
      "text/plain": "             score    userscore  no_userreviews\ncount  5658.000000  5330.000000     5314.000000\nmean     71.872570    66.516323      238.710199\nstd      10.392433    13.892728     2182.454667\nmin      17.000000     2.000000        4.000000\n25%      66.000000    60.000000       15.000000\n50%      73.000000    70.000000       37.000000\n75%      79.000000    76.000000      111.000000\nmax      97.000000    98.000000   144312.000000",
      "text/html": "<div>\n<style scoped>\n    .dataframe tbody tr th:only-of-type {\n        vertical-align: middle;\n    }\n\n    .dataframe tbody tr th {\n        vertical-align: top;\n    }\n\n    .dataframe thead th {\n        text-align: right;\n    }\n</style>\n<table border=\"1\" class=\"dataframe\">\n  <thead>\n    <tr style=\"text-align: right;\">\n      <th></th>\n      <th>score</th>\n      <th>userscore</th>\n      <th>no_userreviews</th>\n    </tr>\n  </thead>\n  <tbody>\n    <tr>\n      <th>count</th>\n      <td>5658.000000</td>\n      <td>5330.000000</td>\n      <td>5314.000000</td>\n    </tr>\n    <tr>\n      <th>mean</th>\n      <td>71.872570</td>\n      <td>66.516323</td>\n      <td>238.710199</td>\n    </tr>\n    <tr>\n      <th>std</th>\n      <td>10.392433</td>\n      <td>13.892728</td>\n      <td>2182.454667</td>\n    </tr>\n    <tr>\n      <th>min</th>\n      <td>17.000000</td>\n      <td>2.000000</td>\n      <td>4.000000</td>\n    </tr>\n    <tr>\n      <th>25%</th>\n      <td>66.000000</td>\n      <td>60.000000</td>\n      <td>15.000000</td>\n    </tr>\n    <tr>\n      <th>50%</th>\n      <td>73.000000</td>\n      <td>70.000000</td>\n      <td>37.000000</td>\n    </tr>\n    <tr>\n      <th>75%</th>\n      <td>79.000000</td>\n      <td>76.000000</td>\n      <td>111.000000</td>\n    </tr>\n    <tr>\n      <th>max</th>\n      <td>97.000000</td>\n      <td>98.000000</td>\n      <td>144312.000000</td>\n    </tr>\n  </tbody>\n</table>\n</div>"
     },
     "metadata": {},
     "execution_count": 5
    }
   ],
   "source": [
    "df.describe()"
   ]
  },
  {
   "cell_type": "code",
   "execution_count": 6,
   "metadata": {
    "tags": []
   },
   "outputs": [
    {
     "output_type": "stream",
     "name": "stderr",
     "text": "Summarize dataset: 100%|██████████| 25/25 [00:06<00:00,  4.01it/s, Completed]\nGenerate report structure: 100%|██████████| 1/1 [00:04<00:00,  4.60s/it]\nRender HTML: 100%|██████████| 1/1 [00:01<00:00,  1.32s/it]\nExport report to file: 100%|██████████| 1/1 [00:00<00:00, 150.32it/s]\n"
    }
   ],
   "source": [
    "df_filterd = df[df['no_userreviews'] < 10000 ]\n",
    "df_filterd.to_csv('metacritic_cleaned.csv')\n",
    "profile = ProfileReport(df_filterd, title='Metacritic Overview', explorative=True) #Generate Exploratory Report\n",
    "profile.to_file(\"mc_report\")"
   ]
  }
 ]
}