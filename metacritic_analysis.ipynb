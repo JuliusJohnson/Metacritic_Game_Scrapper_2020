{
 "metadata": {
  "language_info": {
   "codemirror_mode": {
    "name": "ipython",
    "version": 3
   },
   "file_extension": ".py",
   "mimetype": "text/x-python",
   "name": "python",
   "nbconvert_exporter": "python",
   "pygments_lexer": "ipython3",
   "version": "3.8.2-final"
  },
  "orig_nbformat": 2,
  "kernelspec": {
   "name": "python38264bitmetacriticpipenv62869e1a7a93415086696beecf2b8a42",
   "display_name": "Python 3.8.2 64-bit ('Metacritic': pipenv)"
  }
 },
 "nbformat": 4,
 "nbformat_minor": 2,
 "cells": [
  {
   "cell_type": "code",
   "execution_count": 1,
   "metadata": {},
   "outputs": [],
   "source": [
    "import numpy as np\n",
    "import pandas as pd\n",
    "from pandas_profiling import ProfileReport"
   ]
  },
  {
   "cell_type": "code",
   "execution_count": 2,
   "metadata": {
    "tags": []
   },
   "outputs": [
    {
     "output_type": "execute_result",
     "data": {
      "text/plain": "Unnamed: 0        int64\nUnnamed: 0.1      int64\nname             object\ndate             object\nplatform         object\nscore             int64\nurl              object\nuserscore       float64\nfullurl          object\ndeveloper        object\ngenre            object\ndtype: object"
     },
     "metadata": {},
     "execution_count": 2
    }
   ],
   "source": [
    "df = pd.read_csv('metacritic_output.csv')\n",
    "df['userscore'] = df['userscore'].replace('tbd',np.nan) #cleaning output metacritic output\n",
    "#df.dropna(inplace=True)\n",
    "df['userscore'] = df['userscore'].astype(str).astype(float)  #why????\n",
    "df['userscore'] = df['userscore'] * 10 # standardizing userscores with critic scores\n",
    "df.dtypes\n"
   ]
  },
  {
   "cell_type": "code",
   "execution_count": 3,
   "metadata": {},
   "outputs": [],
   "source": [
    "df.drop([\"Unnamed: 0\", \"Unnamed: 0.1\"], axis=1, inplace=True) #delte extra generated columns\n"
   ]
  },
  {
   "cell_type": "code",
   "execution_count": 4,
   "metadata": {},
   "outputs": [
    {
     "output_type": "execute_result",
     "data": {
      "text/plain": "name                 object\ndate         datetime64[ns]\nplatform             object\nscore                 int64\nurl                  object\nuserscore           float64\nfullurl              object\ndeveloper            object\ngenre                object\ndtype: object"
     },
     "metadata": {},
     "execution_count": 4
    }
   ],
   "source": [
    "df['date'] = pd.to_datetime(df['date'], format='%B %d, %Y') #Convert date to something we can use programmatically\n",
    "df.dtypes"
   ]
  },
  {
   "cell_type": "code",
   "execution_count": 7,
   "metadata": {
    "tags": []
   },
   "outputs": [
    {
     "output_type": "stream",
     "name": "stderr",
     "text": "Summarize dataset: 100%|██████████| 23/23 [00:02<00:00,  9.19it/s, Completed]\nGenerate report structure: 100%|██████████| 1/1 [00:04<00:00,  4.08s/it]\nRender HTML: 100%|██████████| 1/1 [00:00<00:00,  1.35it/s]\nExport report to file: 100%|██████████| 1/1 [00:00<00:00, 103.41it/s]\n"
    }
   ],
   "source": [
    "df.to_csv(\"Analysis/metacritic_cleaned.csv\")\n",
    "profile = ProfileReport(df, title='Metacritic Overview', explorative=True) #Generate Exploratory Report\n",
    "profile.to_file(\"Analysis/mc_report\")"
   ]
  },
  {
   "cell_type": "code",
   "execution_count": null,
   "metadata": {},
   "outputs": [],
   "source": []
  }
 ]
}